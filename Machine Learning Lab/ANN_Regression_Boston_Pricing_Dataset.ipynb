{
  "cells": [
    {
      "cell_type": "markdown",
      "metadata": {
        "id": "X6B8queNzVGs"
      },
      "source": [
        "#Introduction"
      ]
    },
    {
      "cell_type": "markdown",
      "metadata": {
        "id": "smLtEITgzcXl"
      },
      "source": [
        "##Boston Housing Data\n",
        "The Boston Housing dataset is a famous dataset used in regression analysis. It contains information collected by the U.S. Census Service concerning housing in the area of Boston, Massachusetts.\n",
        "\n",
        "The dataset consists of 506 observations of 14 attributes, including the median value of homes in a given suburb of Boston, as well as data on crime rate, nitric oxides concentration, the average number of rooms per dwelling, and other factors that could potentially affect housing prices."
      ]
    },
    {
      "cell_type": "markdown",
      "metadata": {
        "id": "-vYzi-pUzl75"
      },
      "source": [
        "#1. Importing Dataset"
      ]
    },
    {
      "cell_type": "code",
      "execution_count": null,
      "metadata": {
        "colab": {
          "base_uri": "https://localhost:8080/"
        },
        "id": "4Lex5_FLpZ1L",
        "outputId": "ea0e8167-c3b6-43d2-f4de-52393b55c026"
      },
      "outputs": [
        {
          "output_type": "stream",
          "name": "stdout",
          "text": [
            "Downloading data from https://storage.googleapis.com/tensorflow/tf-keras-datasets/boston_housing.npz\n",
            "57026/57026 [==============================] - 0s 0us/step\n"
          ]
        }
      ],
      "source": [
        "from keras.datasets import boston_housing\n",
        "\n",
        "data = boston_housing.load_data()"
      ]
    },
    {
      "cell_type": "code",
      "execution_count": null,
      "metadata": {
        "colab": {
          "base_uri": "https://localhost:8080/"
        },
        "id": "3PtrRTxQqSbh",
        "outputId": "3cfcdb33-341a-4f17-a34e-c2955807a6bb"
      },
      "outputs": [
        {
          "output_type": "execute_result",
          "data": {
            "text/plain": [
              "tuple"
            ]
          },
          "metadata": {},
          "execution_count": 2
        }
      ],
      "source": [
        "data\n",
        "\n",
        "type(data)"
      ]
    },
    {
      "cell_type": "markdown",
      "metadata": {
        "id": "tBCYhVzqzy5P"
      },
      "source": [
        "#2. Split the Dataset into Test and Train"
      ]
    },
    {
      "cell_type": "code",
      "execution_count": null,
      "metadata": {
        "id": "r5_lBQuwp7Wf"
      },
      "outputs": [],
      "source": [
        "(X_train, y_train), (X_test, y_test) = data"
      ]
    },
    {
      "cell_type": "code",
      "execution_count": null,
      "metadata": {
        "colab": {
          "base_uri": "https://localhost:8080/"
        },
        "id": "0RKUH6niig11",
        "outputId": "b6dc6e49-4be4-4a14-e999-0ebc6a8aae2d"
      },
      "outputs": [
        {
          "output_type": "execute_result",
          "data": {
            "text/plain": [
              "(404, 13)"
            ]
          },
          "metadata": {},
          "execution_count": 4
        }
      ],
      "source": [
        "X_train.shape"
      ]
    },
    {
      "cell_type": "code",
      "execution_count": null,
      "metadata": {
        "colab": {
          "base_uri": "https://localhost:8080/"
        },
        "id": "UblGz3PGhajv",
        "outputId": "519030b3-19ac-4c30-a03b-cc15f529f24b"
      },
      "outputs": [
        {
          "output_type": "execute_result",
          "data": {
            "text/plain": [
              "(102, 13)"
            ]
          },
          "metadata": {},
          "execution_count": 5
        }
      ],
      "source": [
        "X_test.shape"
      ]
    },
    {
      "cell_type": "code",
      "execution_count": null,
      "metadata": {
        "colab": {
          "base_uri": "https://localhost:8080/"
        },
        "id": "E7_IjZCTw6W0",
        "outputId": "394dbff9-63c7-4981-df5c-0143574ccd68"
      },
      "outputs": [
        {
          "output_type": "execute_result",
          "data": {
            "text/plain": [
              "array([  1.23247,   0.     ,   8.14   ,   0.     ,   0.538  ,   6.142  ,\n",
              "        91.7    ,   3.9769 ,   4.     , 307.     ,  21.     , 396.9    ,\n",
              "        18.72   ])"
            ]
          },
          "metadata": {},
          "execution_count": 6
        }
      ],
      "source": [
        "X_train[0]"
      ]
    },
    {
      "cell_type": "code",
      "execution_count": null,
      "metadata": {
        "colab": {
          "base_uri": "https://localhost:8080/"
        },
        "id": "WXfp-dJHgscF",
        "outputId": "6dcae280-67bc-4081-c40c-a17dcf72bdf3"
      },
      "outputs": [
        {
          "output_type": "execute_result",
          "data": {
            "text/plain": [
              "array([ 18.0846,   0.    ,  18.1   ,   0.    ,   0.679 ,   6.434 ,\n",
              "       100.    ,   1.8347,  24.    , 666.    ,  20.2   ,  27.25  ,\n",
              "        29.05  ])"
            ]
          },
          "metadata": {},
          "execution_count": 7
        }
      ],
      "source": [
        "X_test[0]"
      ]
    },
    {
      "cell_type": "markdown",
      "source": [
        "We had done the normalization on the pixels of the image data. Why not some scaling here as well."
      ],
      "metadata": {
        "id": "Tg17VC168PUb"
      }
    },
    {
      "cell_type": "code",
      "execution_count": null,
      "metadata": {
        "id": "3GCMthH93jam"
      },
      "outputs": [],
      "source": [
        "# from sklearn.preprocessing import StandardScaler\n",
        "\n",
        "# scaler = StandardScaler()\n",
        "# X_train = scaler.fit_transform(X_train)\n",
        "# X_test = scaler.transform(X_test)"
      ]
    },
    {
      "cell_type": "markdown",
      "metadata": {
        "id": "scz1_vUWz_pb"
      },
      "source": [
        "#3. Model Building"
      ]
    },
    {
      "cell_type": "code",
      "execution_count": null,
      "metadata": {
        "id": "F-fUU4OoszeW"
      },
      "outputs": [],
      "source": [
        "from keras.models import Sequential\n",
        "from keras.layers import Dense\n",
        "from keras.optimizers import Adam"
      ]
    },
    {
      "cell_type": "code",
      "execution_count": null,
      "metadata": {
        "id": "q6th6CP0ti8X"
      },
      "outputs": [],
      "source": [
        "model = Sequential()\n",
        "\n",
        "model.add(Dense(36, input_shape = (13,), activation= 'relu'))\n",
        "\n",
        "model.add(Dense(13, activation = 'relu'))\n",
        "\n",
        "model.add(Dense(1))"
      ]
    },
    {
      "cell_type": "code",
      "execution_count": null,
      "metadata": {
        "id": "hulSizWzvJB3"
      },
      "outputs": [],
      "source": [
        "model.compile(loss = 'mse', optimizer = Adam(learning_rate=0.01), metrics = ['mse'])"
      ]
    },
    {
      "cell_type": "code",
      "execution_count": null,
      "metadata": {
        "colab": {
          "base_uri": "https://localhost:8080/"
        },
        "id": "JZ5p6XCVvW_0",
        "outputId": "ad4a3502-c1ae-4069-af92-75c9a2eb2390"
      },
      "outputs": [
        {
          "output_type": "stream",
          "name": "stdout",
          "text": [
            "Model: \"sequential\"\n",
            "_________________________________________________________________\n",
            " Layer (type)                Output Shape              Param #   \n",
            "=================================================================\n",
            " dense (Dense)               (None, 36)                504       \n",
            "                                                                 \n",
            " dense_1 (Dense)             (None, 13)                481       \n",
            "                                                                 \n",
            " dense_2 (Dense)             (None, 1)                 14        \n",
            "                                                                 \n",
            "=================================================================\n",
            "Total params: 999\n",
            "Trainable params: 999\n",
            "Non-trainable params: 0\n",
            "_________________________________________________________________\n"
          ]
        }
      ],
      "source": [
        "model.summary()"
      ]
    },
    {
      "cell_type": "markdown",
      "metadata": {
        "id": "pPMXokxP0G_c"
      },
      "source": [
        "#4. Train the model"
      ]
    },
    {
      "cell_type": "code",
      "execution_count": null,
      "metadata": {
        "colab": {
          "base_uri": "https://localhost:8080/"
        },
        "id": "ApCMy5DHvaXL",
        "outputId": "a75ea3b8-4327-49f6-d863-d1228863f6f9"
      },
      "outputs": [
        {
          "output_type": "stream",
          "name": "stdout",
          "text": [
            "Epoch 1/5\n",
            "13/13 [==============================] - 1s 3ms/step - loss: 1073.0895 - mse: 1073.0895\n",
            "Epoch 2/5\n",
            "13/13 [==============================] - 0s 2ms/step - loss: 150.1679 - mse: 150.1679\n",
            "Epoch 3/5\n",
            "13/13 [==============================] - 0s 2ms/step - loss: 83.8372 - mse: 83.8372\n",
            "Epoch 4/5\n",
            "13/13 [==============================] - 0s 2ms/step - loss: 75.2817 - mse: 75.2817\n",
            "Epoch 5/5\n",
            "13/13 [==============================] - 0s 2ms/step - loss: 69.1565 - mse: 69.1565\n"
          ]
        },
        {
          "output_type": "execute_result",
          "data": {
            "text/plain": [
              "<keras.callbacks.History at 0x7f3764b13610>"
            ]
          },
          "metadata": {},
          "execution_count": 13
        }
      ],
      "source": [
        "model.fit(X_train, y_train, epochs= 5, batch_size=32)"
      ]
    },
    {
      "cell_type": "markdown",
      "metadata": {
        "id": "fZpCtAlK0Md_"
      },
      "source": [
        "#5. Predicting Accuracy"
      ]
    },
    {
      "cell_type": "code",
      "execution_count": null,
      "metadata": {
        "colab": {
          "base_uri": "https://localhost:8080/"
        },
        "id": "KjAlm4owuVYX",
        "outputId": "8a1063c9-b5ae-4314-9ec3-e2918280c102"
      },
      "outputs": [
        {
          "output_type": "stream",
          "name": "stdout",
          "text": [
            "4/4 [==============================] - 0s 5ms/step\n"
          ]
        },
        {
          "output_type": "execute_result",
          "data": {
            "text/plain": [
              "array([14.278069], dtype=float32)"
            ]
          },
          "metadata": {},
          "execution_count": 14
        }
      ],
      "source": [
        "pred = model.predict(X_test)\n",
        "pred[0]"
      ]
    },
    {
      "cell_type": "code",
      "execution_count": null,
      "metadata": {
        "colab": {
          "base_uri": "https://localhost:8080/"
        },
        "id": "BjQQWGPAvp8X",
        "outputId": "83172035-2e14-47b5-8fc2-b26aa35729b5"
      },
      "outputs": [
        {
          "output_type": "stream",
          "name": "stdout",
          "text": [
            "4/4 [==============================] - 0s 4ms/step - loss: 65.6534 - mse: 65.6534\n",
            "MAPE 65.65\n"
          ]
        }
      ],
      "source": [
        "scores = model.evaluate(X_test, y_test)\n",
        "print('MAPE',round(scores[1],2))"
      ]
    },
    {
      "cell_type": "code",
      "execution_count": null,
      "metadata": {
        "id": "KAXMaVXa3N8K"
      },
      "outputs": [],
      "source": []
    }
  ],
  "metadata": {
    "colab": {
      "provenance": []
    },
    "kernelspec": {
      "display_name": "Python 3",
      "name": "python3"
    },
    "language_info": {
      "name": "python"
    }
  },
  "nbformat": 4,
  "nbformat_minor": 0
}