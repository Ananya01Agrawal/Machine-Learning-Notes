{
  "nbformat": 4,
  "nbformat_minor": 0,
  "metadata": {
    "colab": {
      "provenance": []
    },
    "kernelspec": {
      "name": "python3",
      "display_name": "Python 3"
    },
    "language_info": {
      "name": "python"
    }
  },
  "cells": [
    {
      "cell_type": "code",
      "execution_count": null,
      "metadata": {
        "id": "JBiK_vf45ig_"
      },
      "outputs": [],
      "source": [
        "X = np.array([[1, 2], [1, 4], [1, 0], [10, 2], [10, 4], [10, 0]])"
      ]
    },
    {
      "cell_type": "code",
      "source": [
        "import random\n",
        "import numpy as np\n",
        "\n",
        "random.seed(20)\n",
        "X = np.array([[random.randint(0,9),random.randint(0,9)] for i in range(20)])"
      ],
      "metadata": {
        "id": "o1Iii6Py732d"
      },
      "execution_count": 2,
      "outputs": []
    },
    {
      "cell_type": "code",
      "source": [
        "import matplotlib.pyplot as plt\n",
        "plt.scatter(X[:, 0], X[:, 1])"
      ],
      "metadata": {
        "colab": {
          "base_uri": "https://localhost:8080/",
          "height": 283
        },
        "id": "FieqHY0I5-_S",
        "outputId": "adc78a6e-583b-4da6-ab9b-3e1adc3242a8"
      },
      "execution_count": 3,
      "outputs": [
        {
          "output_type": "execute_result",
          "data": {
            "text/plain": [
              "<matplotlib.collections.PathCollection at 0x7f87d03a2cd0>"
            ]
          },
          "metadata": {},
          "execution_count": 3
        },
        {
          "output_type": "display_data",
          "data": {
            "text/plain": [
              "<Figure size 432x288 with 1 Axes>"
            ],
            "image/png": "[encoded data removed]"
          },
          "metadata": {
            "needs_background": "light"
          }
        }
      ]
    },
    {
      "cell_type": "code",
      "source": [
        "from sklearn.cluster import KMeans\n",
        "\n",
        "kmeans = KMeans(n_clusters=3,random_state=10).fit(X)\n",
        "print(kmeans.labels_)\n",
        "test = [[0, 0], [12, 3]]\n",
        "y_hat = kmeans.predict(test)\n",
        "print(y_hat)\n",
        "print(kmeans.cluster_centers_)"
      ],
      "metadata": {
        "colab": {
          "base_uri": "https://localhost:8080/"
        },
        "id": "i_TY5hfj5vkX",
        "outputId": "588b2ede-13c8-4513-c59a-3e356b7a3263"
      },
      "execution_count": 4,
      "outputs": [
        {
          "output_type": "stream",
          "name": "stdout",
          "text": [
            "[1 1 0 1 0 1 2 2 0 1 2 0 2 0 2 0 0 1 1 1]\n",
            "[1 0]\n",
            "[[5.57142857 1.28571429]\n",
            " [2.         4.125     ]\n",
            " [6.         7.        ]]\n"
          ]
        },
        {
          "output_type": "stream",
          "name": "stderr",
          "text": [
            "/usr/local/lib/python3.9/dist-packages/sklearn/cluster/_kmeans.py:870: FutureWarning: The default value of `n_init` will change from 10 to 'auto' in 1.4. Set the value of `n_init` explicitly to suppress the warning\n",
            "  warnings.warn(\n"
          ]
        }
      ]
    },
    {
      "cell_type": "code",
      "source": [
        "plt.scatter(X[:, 0], X[:, 1],c=kmeans.labels_.astype(float))\n",
        "plt.scatter(kmeans.cluster_centers_[:, 0], kmeans.cluster_centers_[:, 1],color = 'r')\n",
        "plt.scatter([0,12],[0,3],color='cyan',marker = '*')"
      ],
      "metadata": {
        "colab": {
          "base_uri": "https://localhost:8080/",
          "height": 283
        },
        "id": "OJZjDUzd6XYg",
        "outputId": "fcda7413-1def-4d57-824e-df733f718b8c"
      },
      "execution_count": 5,
      "outputs": [
        {
          "output_type": "execute_result",
          "data": {
            "text/plain": [
              "<matplotlib.collections.PathCollection at 0x7f879f7985e0>"
            ]
          },
          "metadata": {},
          "execution_count": 5
        },
        {
          "output_type": "display_data",
          "data": {
            "text/plain": [
              "<Figure size 432x288 with 1 Axes>"
            ],
            "image/png": "[encoded data removed]"
          },
          "metadata": {
            "needs_background": "light"
          }
        }
      ]
    },
    {
      "cell_type": "code",
      "source": [],
      "metadata": {
        "id": "46KUf9Nr6-gq"
      },
      "execution_count": null,
      "outputs": []
    }
  ]
}